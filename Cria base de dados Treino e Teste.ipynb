{
 "cells": [
  {
   "cell_type": "code",
   "execution_count": 1,
   "metadata": {},
   "outputs": [],
   "source": [
    "import pandas as pd\n",
    "import random"
   ]
  },
  {
   "cell_type": "code",
   "execution_count": 2,
   "metadata": {},
   "outputs": [],
   "source": [
    "# Transforma string em inteiro\n",
    "def nome_para_inteiro(nome):\n",
    "    nome = nome.upper()  # Converter para maiúsculas para tratar maiúsculas e minúsculas da mesma forma\n",
    "    valor_inteiro = 0\n",
    "    \n",
    "    for letra in nome:\n",
    "        # Verificar se a letra está no alfabeto (A a Z)\n",
    "        if 'A' <= letra <= 'Z':\n",
    "            valor_inteiro += ord(letra) - ord('A') + 1  # Valor de 'A' é 1, 'B' é 2, ..., 'Z' é 26\n",
    "    \n",
    "    return valor_inteiro"
   ]
  },
  {
   "cell_type": "code",
   "execution_count": 4,
   "metadata": {},
   "outputs": [],
   "source": [
    "# Ler o arquivo de dados\n",
    "dados = pd.read_excel('dados.xlsx')"
   ]
  },
  {
   "cell_type": "code",
   "execution_count": 5,
   "metadata": {},
   "outputs": [
    {
     "name": "stdout",
     "output_type": "stream",
     "text": [
      "Por favor, insira um número válido.\n",
      "Por favor, insira um número válido.\n"
     ]
    }
   ],
   "source": [
    "# Perguntar a quantidade de alunos no grupo (2 ou 3)\n",
    "while True:\n",
    "    try:\n",
    "        quantidade_alunos = int(input(\"Quantidade de alunos no grupo (2 ou 3): \"))\n",
    "        if quantidade_alunos in [2, 3]:\n",
    "            break\n",
    "        else:\n",
    "            print(\"Por favor, insira 2 ou 3.\")\n",
    "    except ValueError:\n",
    "        print(\"Por favor, insira um número válido.\")"
   ]
  },
  {
   "cell_type": "code",
   "execution_count": 9,
   "metadata": {},
   "outputs": [],
   "source": [
    "nome = input(\"Digite seu nome: \")\n",
    "valor_inteiro = nome_para_inteiro(nome)"
   ]
  },
  {
   "cell_type": "code",
   "execution_count": 10,
   "metadata": {},
   "outputs": [],
   "source": [
    "# Embaralhar as linhas do conjunto de dados\n",
    "dados_embaralhados = dados.sample(frac=1, random_state=valor_inteiro)"
   ]
  },
  {
   "cell_type": "code",
   "execution_count": 8,
   "metadata": {},
   "outputs": [
    {
     "data": {
      "text/html": [
       "<div>\n",
       "<style scoped>\n",
       "    .dataframe tbody tr th:only-of-type {\n",
       "        vertical-align: middle;\n",
       "    }\n",
       "\n",
       "    .dataframe tbody tr th {\n",
       "        vertical-align: top;\n",
       "    }\n",
       "\n",
       "    .dataframe thead th {\n",
       "        text-align: right;\n",
       "    }\n",
       "</style>\n",
       "<table border=\"1\" class=\"dataframe\">\n",
       "  <thead>\n",
       "    <tr style=\"text-align: right;\">\n",
       "      <th></th>\n",
       "      <th>Mensagem</th>\n",
       "    </tr>\n",
       "  </thead>\n",
       "  <tbody>\n",
       "    <tr>\n",
       "      <th>803</th>\n",
       "      <td>O livro começa bem, mas aos poucos começa a fi...</td>\n",
       "    </tr>\n",
       "    <tr>\n",
       "      <th>385</th>\n",
       "      <td>Aversão para ler no Kindle está mais cara? Eu ...</td>\n",
       "    </tr>\n",
       "    <tr>\n",
       "      <th>319</th>\n",
       "      <td>Felipe neto xingou todos os Youtubers que fize...</td>\n",
       "    </tr>\n",
       "    <tr>\n",
       "      <th>541</th>\n",
       "      <td>Estava tentando há dias continuar lendo sem qu...</td>\n",
       "    </tr>\n",
       "    <tr>\n",
       "      <th>941</th>\n",
       "      <td>O livro é lindíssimo, perfeito, maravilhoso. M...</td>\n",
       "    </tr>\n",
       "    <tr>\n",
       "      <th>...</th>\n",
       "      <td>...</td>\n",
       "    </tr>\n",
       "    <tr>\n",
       "      <th>401</th>\n",
       "      <td>Parece que o autor não leu o próprio livro!! 🙄</td>\n",
       "    </tr>\n",
       "    <tr>\n",
       "      <th>908</th>\n",
       "      <td>Tinha os elementos para ser aquele chiche gost...</td>\n",
       "    </tr>\n",
       "    <tr>\n",
       "      <th>887</th>\n",
       "      <td>Comprei um box do Harry Potter e um do Percy J...</td>\n",
       "    </tr>\n",
       "    <tr>\n",
       "      <th>298</th>\n",
       "      <td>Não gostei. O livro o tempo todo traz narrativ...</td>\n",
       "    </tr>\n",
       "    <tr>\n",
       "      <th>396</th>\n",
       "      <td>Tendencioso, pensamentos de extrema-direita, c...</td>\n",
       "    </tr>\n",
       "  </tbody>\n",
       "</table>\n",
       "<p>300 rows × 1 columns</p>\n",
       "</div>"
      ],
      "text/plain": [
       "                                              Mensagem\n",
       "803  O livro começa bem, mas aos poucos começa a fi...\n",
       "385  Aversão para ler no Kindle está mais cara? Eu ...\n",
       "319  Felipe neto xingou todos os Youtubers que fize...\n",
       "541  Estava tentando há dias continuar lendo sem qu...\n",
       "941  O livro é lindíssimo, perfeito, maravilhoso. M...\n",
       "..                                                 ...\n",
       "401     Parece que o autor não leu o próprio livro!! 🙄\n",
       "908  Tinha os elementos para ser aquele chiche gost...\n",
       "887  Comprei um box do Harry Potter e um do Percy J...\n",
       "298  Não gostei. O livro o tempo todo traz narrativ...\n",
       "396  Tendencioso, pensamentos de extrema-direita, c...\n",
       "\n",
       "[300 rows x 1 columns]"
      ]
     },
     "execution_count": 8,
     "metadata": {},
     "output_type": "execute_result"
    }
   ],
   "source": [
    "# Separar os dados de treino e teste com base na quantidade de alunos\n",
    "if quantidade_alunos == 2:\n",
    "    dados_treino = dados_embaralhados.head(300)\n",
    "    dados_teste = dados_embaralhados.tail(200)\n",
    "else:\n",
    "    dados_treino = dados_embaralhados.head(500)\n",
    "    dados_teste = dados_embaralhados.tail(250)\n",
    "    \n",
    "dados_treino.columns = ['Mensagem']\n",
    "dados_teste.columns = ['Mensagem']\n",
    "dados_treino"
   ]
  },
  {
   "cell_type": "code",
   "execution_count": 11,
   "metadata": {},
   "outputs": [
    {
     "name": "stdout",
     "output_type": "stream",
     "text": [
      "Dados de treino e teste foram salvos em 'dados_treino.xlsx' e 'dados_teste.xlsx'.\n"
     ]
    }
   ],
   "source": [
    "# Salvar os dados de treino e teste em arquivos Excel\n",
    "dados_treino.to_excel('dados_treino.xlsx', index=False, engine='openpyxl')\n",
    "dados_teste.to_excel('dados_teste.xlsx', index=False, engine='openpyxl')\n",
    "\n",
    "print(\"Dados de treino e teste foram salvos em 'dados_treino.xlsx' e 'dados_teste.xlsx'.\")"
   ]
  },
  {
   "cell_type": "code",
   "execution_count": null,
   "metadata": {},
   "outputs": [],
   "source": []
  }
 ],
 "metadata": {
  "kernelspec": {
   "display_name": "Python 3",
   "language": "python",
   "name": "python3"
  },
  "language_info": {
   "codemirror_mode": {
    "name": "ipython",
    "version": 3
   },
   "file_extension": ".py",
   "mimetype": "text/x-python",
   "name": "python",
   "nbconvert_exporter": "python",
   "pygments_lexer": "ipython3",
   "version": "3.9.13"
  }
 },
 "nbformat": 4,
 "nbformat_minor": 2
}
